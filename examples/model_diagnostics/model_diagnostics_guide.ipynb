{
  "nbformat": 4,
  "nbformat_minor": 5,
  "metadata": {
    "accelerator": "GPU",
    "colab": {
      "name": "Model Diagnostics Guide",
      "provenance": [],
      "collapsed_sections": []
    },
    "kernelspec": {
      "display_name": "Python 3 (ipykernel)",
      "language": "python",
      "name": "python3"
    },
    "language_info": {
      "codemirror_mode": {
        "name": "ipython",
        "version": 3
      },
      "file_extension": ".py",
      "mimetype": "text/x-python",
      "name": "python",
      "nbconvert_exporter": "python",
      "pygments_lexer": "ipython3",
      "version": "3.8.2"
    }
  },
  "cells": [
    {
      "cell_type": "markdown",
      "metadata": {
        "id": "signed-manner"
      },
      "source": [
        "  \n",
        "  <td>\n",
        "    <a target=\"_blank\" href=\"https://labelbox.com\" ><img src=\"https://labelbox.com/blog/content/images/2021/02/logo-v4.svg\" width=256/></a>\n",
        "  </td>\n",
        "\n",
        "\n"
      ],
      "id": "signed-manner"
    },
    {
      "cell_type": "markdown",
      "metadata": {
        "id": "substantial-creek"
      },
      "source": [
        "----\n",
        "# Model Diagnostics Guide\n",
        "\n",
        "\n",
        "Throughout the process of training your machine learning (ML) model, you may want to investigate your model's failures in order to understand which areas need improvement. Looking at an error analysis after each training iteration can help you understand whether you need to revise your annotations, make your ontology more clear, or create more training data that targets a specific area.\n",
        "Labelbox now offers a Model Diagnostics tool that analyzes the performance of your model's predictions in a single interface.\n",
        "With Model Diagnostics, you can:\n",
        "*   Inspect model behavior across experiments\n",
        "*   Adjust model hyperparameters and visualize model failures\n",
        "*   Use the Python SDK to create the analysis pipeline\n",
        "\n",
        "## How it works\n",
        "\n",
        "Configuring Model Diagnostics is all done via the SDK. We have created a Google colab notebook to demonstrate this process. The notebook also includes a section that leverages MAL in order to quickly create ground truth annotations.\n",
        "An Experiment is a specific instance of a model generating output in the form of predictions.\n",
        "In Labelbox, the `Model` object represents your ML model and it is what you'll be performing experiments on. It references a set of annotations specified by an ontology. \n",
        "The `Model Run` object represents the experiment itself. It is a specific instance of a `Model` with preconfigured hyperparameters (training data). You can upload inferences across each `Model Run`, filter by IoU score, and compare your model's predictions against the annotations from your training data."
      ],
      "id": "substantial-creek"
    },
    {
      "cell_type": "markdown",
      "metadata": {
        "id": "1cPUzODPjf0r"
      },
      "source": [
        "## Not ready to try with your model\n",
        "\n",
        "For an end-to-end example with an existing dataset check out this [notebook](https://colab.research.google.com/drive/1ZHCd0rWqsX4_sNaOq_ZQkdrHKEWAsrnU)\n",
        "\n",
        "\n"
      ],
      "id": "1cPUzODPjf0r"
    },
    {
      "cell_type": "markdown",
      "metadata": {
        "id": "stupid-court"
      },
      "source": [
        "# Steps\n",
        "1. Make sure you are signed up for the beta. If not navigate here https://labelbox.com/product/model-diagnostics\n",
        "2. Select a project\n",
        "3. Exports labels\n",
        "4. Upload labels and predictions for Diagnostics\n",
        "------ "
      ],
      "id": "stupid-court"
    },
    {
      "cell_type": "markdown",
      "metadata": {
        "id": "subsequent-magic"
      },
      "source": [
        "## Environment Setup\n",
        "* Install dependencies"
      ],
      "id": "subsequent-magic"
    },
    {
      "cell_type": "code",
      "metadata": {
        "id": "voluntary-minister"
      },
      "source": [
        "!pip install \"labelbox[data]\""
      ],
      "id": "voluntary-minister",
      "execution_count": null,
      "outputs": []
    },
    {
      "cell_type": "code",
      "metadata": {
        "id": "wooden-worship"
      },
      "source": [
        "# Run these if running in a colab notebook\n",
        "COLAB = \"google.colab\" in str(get_ipython())"
      ],
      "id": "wooden-worship",
      "execution_count": null,
      "outputs": []
    },
    {
      "cell_type": "markdown",
      "metadata": {
        "id": "latter-leone"
      },
      "source": [
        "* Import libraries"
      ],
      "id": "latter-leone"
    },
    {
      "cell_type": "code",
      "metadata": {
        "id": "committed-richards"
      },
      "source": [
        "import uuid\n",
        "import numpy as np\n",
        "from tqdm import notebook\n",
        "import csv\n",
        "import ndjson\n",
        "import os\n",
        "\n",
        "from labelbox import Client, LabelingFrontend, MALPredictionImport, OntologyBuilder\n",
        "from labelbox.data.metrics.iou import data_row_miou\n",
        "from labelbox.data.serialization import NDJsonConverter\n",
        "from labelbox.data.annotation_types import (\n",
        "    ScalarMetric, \n",
        "    LabelList, \n",
        "    Label, \n",
        "    ImageData, \n",
        "    MaskData,\n",
        "    Mask,\n",
        "    Polygon,\n",
        "    Line,\n",
        "    Point, \n",
        "    Rectangle, \n",
        "    ObjectAnnotation\n",
        ")"
      ],
      "id": "committed-richards",
      "execution_count": null,
      "outputs": []
    },
    {
      "cell_type": "markdown",
      "metadata": {
        "id": "alternate-promotion"
      },
      "source": [
        "* Configure client"
      ],
      "id": "alternate-promotion"
    },
    {
      "cell_type": "code",
      "metadata": {
        "id": "economic-chase"
      },
      "source": [
        "API_KEY = None\n",
        "client = Client(api_key = API_KEY)"
      ],
      "id": "economic-chase",
      "execution_count": null,
      "outputs": []
    },
    {
      "cell_type": "markdown",
      "metadata": {
        "id": "blessed-venture"
      },
      "source": [
        "## Select a project"
      ],
      "id": "blessed-venture"
    },
    {
      "cell_type": "code",
      "metadata": {
        "id": "SzMRhPV4J5Bb"
      },
      "source": [
        "project_id = None "
      ],
      "id": "SzMRhPV4J5Bb",
      "execution_count": null,
      "outputs": []
    },
    {
      "cell_type": "code",
      "metadata": {
        "id": "qF_pOaoDhINR"
      },
      "source": [
        "project = client.get_project(project_id)\n",
        "ontology = project.ontology()"
      ],
      "id": "qF_pOaoDhINR",
      "execution_count": null,
      "outputs": []
    },
    {
      "cell_type": "markdown",
      "metadata": {
        "id": "hwtnJRmMJlPO"
      },
      "source": [
        "## Export Labels"
      ],
      "id": "hwtnJRmMJlPO"
    },
    {
      "cell_type": "code",
      "metadata": {
        "id": "1kbmVPSxJaHw"
      },
      "source": [
        "MAX_LABELS = 2000\n",
        "# we have a limit of 2000 labels\n",
        "labels = [l for idx, l in enumerate(project.label_generator()) if idx < MAX_LABELS]"
      ],
      "id": "1kbmVPSxJaHw",
      "execution_count": null,
      "outputs": []
    },
    {
      "cell_type": "markdown",
      "metadata": {
        "id": "dated-burden"
      },
      "source": [
        "## Create Predictions\n",
        "* Loop over data_rows, make predictions, and annotation types"
      ],
      "id": "dated-burden"
    },
    {
      "cell_type": "code",
      "metadata": {
        "id": "asian-savings"
      },
      "source": [
        "predictions = LabelList()\n",
        "for label in notebook.tqdm(labels):\n",
        "    annotations = []\n",
        "    image = label.data\n",
        "\n",
        "    ### --- replace (start) --- ###\n",
        "    \n",
        "    # Build a list of annotation objects from your model inferences\n",
        "    # image.value is just the numpy array representation of the image\n",
        "    prediction = model.predict(image.value)\n",
        "    # Iterate of segmentation channels or instances depending on your model architecture ( or both )\n",
        "    for instance, (xmin, ymin, xmax, ymax), seg, class_idx in prediction:\n",
        "        class_name = class_names.get(class_idx)\n",
        "        \n",
        "        # Construct the right annotation value (pick one of the following) and append to list of annotations\n",
        "        # See annotation types notebooks for more on how to construct these objects\n",
        "        # https://github.com/Labelbox/labelbox-python/tree/develop/examples/annotation_types\n",
        "        \n",
        "        value = Polygon(points = [Point(x = x, y = y) for x,y in instance])\n",
        "        value = Rectangle(start = Point(x = xmin, y = ymin), end = Point(x=xmax, y=ymax))\n",
        "        value = Point(x=x, y =y)\n",
        "        value = Line(points = [Point(x = x, y = y) for x,y in instance])\n",
        "        value = Mask(mask = MaskData.from_2D_arr(seg * grayscale_color), color = (grayscale_color,)* 3)\n",
        "        \n",
        "        annotations.append(ObjectAnnotation(name =class_name, value = value))\n",
        "            \n",
        "    ### --- replace (end) --- ###    \n",
        "    predictions.append(Label(data = image, annotations = annotations))"
      ],
      "id": "asian-savings",
      "execution_count": null,
      "outputs": []
    },
    {
      "cell_type": "markdown",
      "metadata": {
        "id": "serious-electronics"
      },
      "source": [
        "## Prepare for upload\n",
        "* Add any mising urls or references to labelbox (data row ids)"
      ],
      "id": "serious-electronics"
    },
    {
      "cell_type": "code",
      "metadata": {
        "id": "engaged-decision"
      },
      "source": [
        "signer = lambda _bytes: client.upload_data(content=_bytes, sign=True)\n",
        "predictions.add_url_to_masks(signer) \\\n",
        "         .add_url_to_data(signer) \\\n",
        "         .assign_feature_schema_ids(OntologyBuilder.from_project(project)) \\\n",
        "         .add_to_dataset(dataset, client.upload_data)"
      ],
      "id": "engaged-decision",
      "execution_count": null,
      "outputs": []
    },
    {
      "cell_type": "markdown",
      "metadata": {
        "id": "smoking-catering"
      },
      "source": [
        "## MEA\n",
        "\n",
        "Throughout the process of training your machine learning (ML) model, you may want to investigate your model’s failures in order to understand which areas need improvement. Looking at an error analysis after each training iteration can help you understand whether you need to revise your annotations, make your ontology more clear, or create more training data that targets a specific area.\n",
        "\n",
        "\n",
        "\n",
        "\n",
        "\n",
        "1. Create a model\n",
        "    * Think of this as a model that you want to perform experiments on\n",
        "2. Create a model run\n",
        "    * Think of this as a single experiment for a particular model.\n",
        "    * E.g. this model run is for an instance of a model with particular hyperparameters\n",
        "3. Select the ground truth annotations for analysis\n",
        "4. Compute metrics\n",
        "4. Upload model predictions and metrics to labelbox"
      ],
      "id": "smoking-catering"
    },
    {
      "cell_type": "code",
      "metadata": {
        "id": "mental-minnesota"
      },
      "source": [
        "lb_model = client.create_model(name = f\"{project.name}-model\", ontology_id = project.ontology().uid)\n",
        "lb_model_run = lb_model.create_model_run(\"0.0.0\")\n",
        "lb_model_run.upsert_labels([label.uid for label in labels])"
      ],
      "id": "mental-minnesota",
      "execution_count": null,
      "outputs": []
    },
    {
      "cell_type": "code",
      "metadata": {
        "id": "committed-fairy"
      },
      "source": [
        "label_lookup = {label.data.uid : label for label in labels}\n",
        "\n",
        "for pred in predictions:\n",
        "    label = label_lookup.get(pred.data.uid)\n",
        "    if label is None:\n",
        "        # No label for the prediction..\n",
        "        continue\n",
        "\n",
        "    score = data_row_miou(label, pred)\n",
        "    if score is None:\n",
        "        continue\n",
        "        \n",
        "    pred.annotations.append(\n",
        "        ScalarMetric(value = score)\n",
        "    )"
      ],
      "id": "committed-fairy",
      "execution_count": null,
      "outputs": []
    },
    {
      "cell_type": "code",
      "metadata": {
        "id": "anonymous-addition"
      },
      "source": [
        "upload_task = lb_model_run.add_predictions(f'mea-import-{uuid.uuid4()}', NDJsonConverter.serialize(predictions))"
      ],
      "id": "anonymous-addition",
      "execution_count": null,
      "outputs": []
    },
    {
      "cell_type": "code",
      "metadata": {
        "id": "imAIXxCV_fG_"
      },
      "source": [
        "upload_task.wait_until_done()\n",
        "upload_task.state"
      ],
      "id": "imAIXxCV_fG_",
      "execution_count": null,
      "outputs": []
    },
    {
      "cell_type": "markdown",
      "metadata": {
        "id": "acoustic-colombia"
      },
      "source": [
        "### Open Model Run"
      ],
      "id": "acoustic-colombia"
    },
    {
      "cell_type": "code",
      "metadata": {
        "id": "through-manufacturer"
      },
      "source": [
        "for idx, annotation_group in enumerate(lb_model_run.annotation_groups()):\n",
        "    if idx == 5:\n",
        "        break\n",
        "    print(annotation_group.url)"
      ],
      "id": "through-manufacturer",
      "execution_count": null,
      "outputs": []
    }
  ]
}