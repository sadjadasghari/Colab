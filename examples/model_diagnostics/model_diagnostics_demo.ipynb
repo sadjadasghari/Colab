{
  "nbformat": 4,
  "nbformat_minor": 5,
  "metadata": {
    "accelerator": "GPU",
    "colab": {
      "name": "Model Diagnostics Demo",
      "provenance": [],
      "collapsed_sections": []
    },
    "kernelspec": {
      "display_name": "Python 3 (ipykernel)",
      "language": "python",
      "name": "python3"
    },
    "language_info": {
      "codemirror_mode": {
        "name": "ipython",
        "version": 3
      },
      "file_extension": ".py",
      "mimetype": "text/x-python",
      "name": "python",
      "nbconvert_exporter": "python",
      "pygments_lexer": "ipython3",
      "version": "3.8.2"
    }
  },
  "cells": [
    {
      "cell_type": "markdown",
      "metadata": {
        "id": "mounted-asian"
      },
      "source": [
        "  \n",
        "<td>\n",
        "    <a target=\"_blank\" href=\"https://labelbox.com\" ><img src=\"https://labelbox.com/blog/content/images/2021/02/logo-v4.svg\" width=256/></a>\n",
        "</td>"
      ],
      "id": "mounted-asian"
    },
    {
      "cell_type": "markdown",
      "metadata": {
        "id": "attractive-lemon"
      },
      "source": [
        "----\n",
        "\n",
        "# Model Diagnostics\n",
        "\n",
        "\n",
        "Throughout the process of training your machine learning (ML) model, you may want to investigate your model's failures in order to understand which areas need improvement. Looking at an error analysis after each training iteration can help you understand whether you need to revise your annotations, make your ontology more clear, or create more training data that targets a specific area.\n",
        "Labelbox now offers a Model Diagnostics tool that analyzes the performance of your model's predictions in a single interface.\n",
        "With Model Diagnostics, you can:\n",
        "*   Inspect model behavior across experiments\n",
        "*   Adjust model hyperparameters and visualize model failures\n",
        "*   Use the Python SDK to create the analysis pipeline\n",
        "\n",
        "## How it works\n",
        "\n",
        "Configuring Model Diagnostics is all done via the SDK. We have created a Google colab notebook to demonstrate this process. The notebook also includes a section that leverages MAL in order to quickly create ground truth annotations.\n",
        "An Experiment is a specific instance of a model generating output in the form of predictions.\n",
        "In Labelbox, the `Model` object represents your ML model and it is what you'll be performing experiments on. It references a set of annotations specified by an ontology. \n",
        "The `Model Run` object represents the experiment itself. It is a specific instance of a `Model` with preconfigured hyperparameters (training data). You can upload inferences across each `Model Run`, filter by IoU score, and compare your model's predictions against the annotations from your training data.\n",
        "\n",
        "## Steps\n",
        "1. Make sure you are signed up for the beta. If not navigate here https://labelbox.com/product/model-diagnostics\n",
        "2. Have a set of ground truth labels in a project\n",
        "3. Install the latest SDK release (At this time that is 3.0.0rc1)\n",
        "4. Create a `Model`\n",
        "5. Create a `Model Run`\n",
        "6. Compute predictions\n",
        "7. Compute model performance metrics\n",
        "8. Upload labels, predictions, and metrics\n",
        "9. Navigate to the `Models` tab on Labelbox\n",
        "\n",
        "## Best practices\n",
        "Currently there is a limit of 2000 images per model run. We suggest uploading lower performing examples from your test set.\n"
      ],
      "id": "attractive-lemon"
    },
    {
      "cell_type": "markdown",
      "metadata": {
        "id": "subsequent-magic"
      },
      "source": [
        "## Environment Setup\n",
        "\n",
        "Install dependencies"
      ],
      "id": "subsequent-magic"
    },
    {
      "cell_type": "code",
      "metadata": {
        "id": "voluntary-minister"
      },
      "source": [
        "!pip install \"labelbox[data]\" \\\n",
        "             scikit-image \\\n",
        "             tensorflow"
      ],
      "id": "voluntary-minister",
      "execution_count": null,
      "outputs": []
    },
    {
      "cell_type": "code",
      "metadata": {
        "id": "wooden-worship"
      },
      "source": [
        "# Run these if running in a colab notebook\n",
        "COLAB = \"google.colab\" in str(get_ipython())\n",
        "\n",
        "if COLAB:\n",
        "    !git clone https://github.com/Labelbox/labelbox-python.git\n",
        "    !cd labelbox-python\n",
        "    !mv labelbox-python/examples/model_assisted_labeling/*.py ."
      ],
      "id": "wooden-worship",
      "execution_count": null,
      "outputs": []
    },
    {
      "cell_type": "markdown",
      "metadata": {
        "id": "latter-leone"
      },
      "source": [
        "Import libraries"
      ],
      "id": "latter-leone"
    },
    {
      "cell_type": "code",
      "metadata": {
        "id": "committed-richards"
      },
      "source": [
        "import sys\n",
        "sys.path.append('../model_assisted_labeling')\n",
        "\n",
        "import uuid\n",
        "import numpy as np\n",
        "from skimage import measure\n",
        "import requests\n",
        "from tqdm import notebook\n",
        "import requests\n",
        "import csv\n",
        "import os\n",
        "\n",
        "from labelbox.schema.ontology import OntologyBuilder, Tool\n",
        "from labelbox import Client, LabelingFrontend, MALPredictionImport\n",
        "from labelbox.data.metrics.iou import data_row_miou\n",
        "from labelbox.data.serialization import NDJsonConverter\n",
        "from labelbox.data.annotation_types import (\n",
        "    ScalarMetric, \n",
        "    LabelList, \n",
        "    Label, \n",
        "    ImageData, \n",
        "    MaskData,\n",
        "    Mask, \n",
        "    Polygon,\n",
        "    Point, \n",
        "    Rectangle, \n",
        "    ObjectAnnotation\n",
        ")\n",
        "\n",
        "try:\n",
        "    from image_model import predict, load_model\n",
        "except ModuleNotFoundError: \n",
        "    # !git clone https://github.com/Labelbox/labelbox-python.git\n",
        "    # !cd labelbox-python && git checkout mea-dev\n",
        "    # !mv labelbox-python/examples/model_assisted_labeling/*.py .\n",
        "    raise Exception(\"You will need to run from the labelbox-python git repo\")"
      ],
      "id": "committed-richards",
      "execution_count": null,
      "outputs": []
    },
    {
      "cell_type": "markdown",
      "metadata": {
        "id": "alternate-promotion"
      },
      "source": [
        "Configure client"
      ],
      "id": "alternate-promotion"
    },
    {
      "cell_type": "code",
      "metadata": {
        "id": "economic-chase"
      },
      "source": [
        "API_KEY = None\n",
        "PROJECT_NAME = \"Diagnostics Demo\"\n",
        "MODEL_NAME = \"MSCOCO-Mapillary\"\n",
        "MODEL_VERSION = \"0.0.0\""
      ],
      "id": "economic-chase",
      "execution_count": null,
      "outputs": []
    },
    {
      "cell_type": "code",
      "metadata": {
        "id": "affecting-myanmar"
      },
      "source": [
        "client = Client(api_key=API_KEY)\n",
        "load_model() # initialize Tensorflow Model"
      ],
      "id": "affecting-myanmar",
      "execution_count": null,
      "outputs": []
    },
    {
      "cell_type": "code",
      "metadata": {
        "id": "modern-program"
      },
      "source": [
        "# Configure for whatever combination of tools and class names that you would like.\n",
        "class_mappings = {\n",
        "    1: {\"name\": 'person', \"kind\": Tool.Type.POLYGON},\n",
        "    2: {\"name\": 'bicycle', \"kind\": Tool.Type.SEGMENTATION, 'color' : 64},\n",
        "    3: {\"name\": 'car', \"kind\": Tool.Type.BBOX},\n",
        "    4: {\"name\": 'motorcycle', \"kind\": Tool.Type.BBOX},\n",
        "    6: {\"name\": 'bus', \"kind\": Tool.Type.POLYGON},\n",
        "    7: {\"name\": 'train', \"kind\": Tool.Type.POLYGON},\n",
        "    8: {\"name\": 'truck', \"kind\": Tool.Type.POLYGON},\n",
        "    10: {\"name\": 'traffic light', \"kind\": Tool.Type.POINT},\n",
        "    11: {\"name\": 'fire hydrant', \"kind\": Tool.Type.BBOX},\n",
        "    13: {\"name\": 'stop sign', \"kind\": Tool.Type.SEGMENTATION, 'color' : 255},\n",
        "    14: {\"name\": 'parking meter', \"kind\": Tool.Type.POINT},\n",
        "    28: {\"name\": 'umbrella', \"kind\": Tool.Type.SEGMENTATION, 'color' : 128},    \n",
        "    31: {\"name\": 'handbag', \"kind\": Tool.Type.POINT},        \n",
        "}"
      ],
      "id": "modern-program",
      "execution_count": null,
      "outputs": []
    },
    {
      "cell_type": "markdown",
      "metadata": {
        "id": "dated-burden"
      },
      "source": [
        "## Create Predictions\n",
        "* Loop over data_rows, make predictions, and create ndjson"
      ],
      "id": "dated-burden"
    },
    {
      "cell_type": "code",
      "metadata": {
        "id": "blank-flower"
      },
      "source": [
        "# --- setup dataset ---\n",
        "# load mapillary sample\n",
        "sample_csv_url = \"https://raw.githubusercontent.com/Labelbox/labelbox-python/develop/examples/assets/mapillary_sample.csv\"\n",
        "with requests.get(sample_csv_url, stream=True) as r:\n",
        "    image_data = [row.split(',') for row in (line.decode('utf-8') for line in r.iter_lines())]"
      ],
      "id": "blank-flower",
      "execution_count": null,
      "outputs": []
    },
    {
      "cell_type": "code",
      "metadata": {
        "id": "asian-savings"
      },
      "source": [
        "predictions = LabelList()\n",
        "for (image_url, external_id) in notebook.tqdm(image_data):\n",
        "    image = ImageData(url = image_url, external_id = external_id)\n",
        "    height, width = image.value.shape[:2]\n",
        "    prediction = predict(np.array([image.im_bytes]), min_score=0.5, height=height, width = width)\n",
        "    boxes, classes, seg_masks = prediction[\"boxes\"], prediction[\"class_indices\"], prediction[\"seg_masks\"]\n",
        "    annotations = []\n",
        "    for box, class_idx, seg in zip(boxes, classes, seg_masks):\n",
        "        if class_idx in class_mappings:\n",
        "            class_info = class_mappings.get(class_idx)\n",
        "            if class_info['kind'] == Tool.Type.POLYGON:\n",
        "                contours = measure.find_contours(seg, 0.5)\n",
        "                pts = contours[0].astype(np.int32)\n",
        "                value = Polygon(points = [Point(x = x, y = y) for x,y in np.roll(pts, 1, axis=-1)])\n",
        "            elif class_info['kind'] == Tool.Type.BBOX:\n",
        "                value = Rectangle(start = Point(x = box[1], y = box[0]), end = Point(x=box[3], y=box[2]))\n",
        "            elif class_info['kind'] == Tool.Type.POINT:\n",
        "                value = Point(x=(box[1] + box[3]) / 2., y = (box[0] + box[2]) / 2.)\n",
        "            elif class_info['kind'] == Tool.Type.SEGMENTATION:\n",
        "                value = Mask(mask = MaskData.from_2D_arr(seg * class_info['color']), color = (class_info['color'],)* 3)\n",
        "            else:\n",
        "                raise ValueError(f\"Unsupported kind found. {class_info['kind']}\")\n",
        "            annotations.append(ObjectAnnotation(name = class_info['name'], value = value))\n",
        "    predictions.append(Label(data = image, annotations = annotations))"
      ],
      "id": "asian-savings",
      "execution_count": null,
      "outputs": []
    },
    {
      "cell_type": "markdown",
      "metadata": {
        "id": "together-suicide"
      },
      "source": [
        "## Setup a project"
      ],
      "id": "together-suicide"
    },
    {
      "cell_type": "code",
      "metadata": {
        "id": "received-nigeria"
      },
      "source": [
        "# --- Use the class mapping specified above ( Will include all specified classes )\n",
        "tools = []\n",
        "for target in class_mappings.values():\n",
        "     tools.append(Tool(tool=target['kind'], name=target[\"name\"]))\n",
        "ontology_builder = OntologyBuilder(tools=tools)\n",
        "\n",
        "# --- Optionally Setup ontology from predictions ( Only will include predicted classes )\n",
        "#ontology_builder = predictions.get_ontology()"
      ],
      "id": "received-nigeria",
      "execution_count": null,
      "outputs": []
    },
    {
      "cell_type": "code",
      "metadata": {
        "id": "stopped-phrase"
      },
      "source": [
        "print(f\"Setting up: {PROJECT_NAME}\")\n",
        "\n",
        "project = client.create_project(name=PROJECT_NAME)\n",
        "editor = next(client.get_labeling_frontends(where=LabelingFrontend.name == \"Editor\"))\n",
        "project.setup(editor, ontology_builder.asdict())\n",
        "\n",
        "dataset = client.create_dataset(name=\"Mapillary Diagnostics Demo\")\n",
        "print(f\"Dataset Created: {dataset.uid}\")\n",
        "project.datasets.connect(dataset)"
      ],
      "id": "stopped-phrase",
      "execution_count": null,
      "outputs": []
    },
    {
      "cell_type": "markdown",
      "metadata": {
        "id": "secure-shelf"
      },
      "source": [
        "## Prepare for upload\n",
        "* Our local annotations need the following:\n",
        "    1. signed url for segmentation masks\n",
        "    2. data rows in labelbox\n",
        "    3. feature schema ids"
      ],
      "id": "secure-shelf"
    },
    {
      "cell_type": "code",
      "metadata": {
        "id": "unavailable-egyptian"
      },
      "source": [
        "signer = lambda _bytes: client.upload_data(content=_bytes, sign=True)\n",
        "predictions.add_url_to_masks(signer) \\\n",
        "         .add_url_to_data(signer) \\\n",
        "         .assign_feature_schema_ids(OntologyBuilder.from_project(project)) \\\n",
        "         .add_to_dataset(dataset, client.upload_data)"
      ],
      "id": "unavailable-egyptian",
      "execution_count": null,
      "outputs": []
    },
    {
      "cell_type": "markdown",
      "metadata": {
        "id": "perfect-seafood"
      },
      "source": [
        "## **Optional** - Create labels with [Model Assisted Labeling](https://docs.labelbox.com/en/core-concepts/model-assisted-labeling)\n",
        "\n",
        "* Pre-label image so that we can quickly create ground truth\n",
        "* Create ground truth data for Model Diagnostics\n",
        "* Click on link below to label"
      ],
      "id": "perfect-seafood"
    },
    {
      "cell_type": "code",
      "metadata": {
        "id": "subject-painting"
      },
      "source": [
        "RUN_MAL = True\n",
        "if RUN_MAL:\n",
        "    project.enable_model_assisted_labeling()\n",
        "    # Convert from annotation types to import format\n",
        "    ndjson_predictions = NDJsonConverter.serialize(predictions)\n",
        "    upload_task = MALPredictionImport.create_from_objects(client, project.uid, f'mal-import-{uuid.uuid4()}',ndjson_predictions )\n",
        "    upload_task.wait_until_done()\n",
        "    print(upload_task.state , '\\n')"
      ],
      "id": "subject-painting",
      "execution_count": null,
      "outputs": []
    },
    {
      "cell_type": "code",
      "metadata": {
        "id": "MV4U1W4H_eMq"
      },
      "source": [
        "print(f\"https://app.labelbox.com/go-label/{project.uid}\")"
      ],
      "id": "MV4U1W4H_eMq",
      "execution_count": null,
      "outputs": []
    },
    {
      "cell_type": "markdown",
      "metadata": {
        "id": "stopped-mandate"
      },
      "source": [
        "## Export Labels\n",
        "\n",
        "We do not support `Skipped` labels and have a limit of **2000**"
      ],
      "id": "stopped-mandate"
    },
    {
      "cell_type": "code",
      "metadata": {
        "id": "excited-seminar"
      },
      "source": [
        "MAX_LABELS = 2000\n",
        "labels = [l for idx, l in enumerate(project.label_generator()) if idx < MAX_LABELS]"
      ],
      "id": "excited-seminar",
      "execution_count": null,
      "outputs": []
    },
    {
      "cell_type": "markdown",
      "metadata": {
        "id": "smoking-catering"
      },
      "source": [
        "## Setup Model & Model Run"
      ],
      "id": "smoking-catering"
    },
    {
      "cell_type": "code",
      "metadata": {
        "id": "mental-minnesota"
      },
      "source": [
        "lb_model = client.create_model(name = MODEL_NAME, ontology_id = project.ontology().uid)\n",
        "lb_model_run = lb_model.create_model_run(MODEL_VERSION)"
      ],
      "id": "mental-minnesota",
      "execution_count": null,
      "outputs": []
    },
    {
      "cell_type": "markdown",
      "metadata": {
        "id": "cu8h6h0g-Fe2"
      },
      "source": [
        "Select label ids to upload"
      ],
      "id": "cu8h6h0g-Fe2"
    },
    {
      "cell_type": "code",
      "metadata": {
        "id": "static-coordinate"
      },
      "source": [
        "lb_model_run.upsert_labels([label.uid for label in labels])"
      ],
      "id": "static-coordinate",
      "execution_count": null,
      "outputs": []
    },
    {
      "cell_type": "markdown",
      "metadata": {
        "id": "g_u1ak2n7qn5"
      },
      "source": [
        "### Compute Metrics"
      ],
      "id": "g_u1ak2n7qn5"
    },
    {
      "cell_type": "code",
      "metadata": {
        "id": "committed-fairy"
      },
      "source": [
        "label_lookup = {label.data.uid : label for label in labels}\n",
        "\n",
        "for pred in predictions:\n",
        "    label = label_lookup.get(pred.data.uid)\n",
        "    if label is None:\n",
        "        # No label that matches the prediction\n",
        "        continue\n",
        "        \n",
        "    score = data_row_miou(label, pred)\n",
        "    if score is None:\n",
        "        continue\n",
        "        \n",
        "    pred.annotations.append(\n",
        "        ScalarMetric(value = score)\n",
        "    )"
      ],
      "id": "committed-fairy",
      "execution_count": null,
      "outputs": []
    },
    {
      "cell_type": "code",
      "metadata": {
        "id": "anonymous-addition"
      },
      "source": [
        "upload_task = lb_model_run.add_predictions(f'diagnostics-import-{uuid.uuid4()}', NDJsonConverter.serialize(predictions))\n",
        "upload_task.wait_until_done()\n",
        "print(upload_task.state)"
      ],
      "id": "anonymous-addition",
      "execution_count": null,
      "outputs": []
    },
    {
      "cell_type": "markdown",
      "metadata": {
        "id": "uTjGOyIW-3op"
      },
      "source": [
        "### Open Model Run"
      ],
      "id": "uTjGOyIW-3op"
    },
    {
      "cell_type": "code",
      "metadata": {
        "id": "zrll9K6Q9tGK"
      },
      "source": [
        "for idx, annotation_group in enumerate(lb_model_run.annotation_groups()):\n",
        "    if idx == 5:\n",
        "        break\n",
        "    print(annotation_group.url)"
      ],
      "id": "zrll9K6Q9tGK",
      "execution_count": null,
      "outputs": []
    },
    {
      "cell_type": "code",
      "metadata": {
        "id": "wound-newfoundland"
      },
      "source": [
        ""
      ],
      "id": "wound-newfoundland",
      "execution_count": null,
      "outputs": []
    }
  ]
}