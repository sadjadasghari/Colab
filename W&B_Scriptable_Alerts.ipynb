{
  "nbformat": 4,
  "nbformat_minor": 0,
  "metadata": {
    "colab": {
      "name": "W&B Scriptable Alerts",
      "private_outputs": true,
      "provenance": [],
      "collapsed_sections": [],
      "include_colab_link": true
    },
    "kernelspec": {
      "name": "python3",
      "display_name": "Python 3"
    }
  },
  "cells": [
    {
      "cell_type": "markdown",
      "metadata": {
        "id": "view-in-github",
        "colab_type": "text"
      },
      "source": [
        "<a href=\"https://colab.research.google.com/github/sadjadasghari/Colab/blob/main/W%26B_Scriptable_Alerts.ipynb\" target=\"_parent\"><img src=\"https://colab.research.google.com/assets/colab-badge.svg\" alt=\"Open In Colab\"/></a>"
      ]
    },
    {
      "cell_type": "markdown",
      "metadata": {
        "id": "g95UJqTAFH8k"
      },
      "source": [
        "# Weights & Biases Scriptable Alerts\n",
        "\n",
        "Use W&B Alerts to sent yourself a Slack message or email when something happens in your Python script.\n",
        "\n",
        "[Alerts docs](https://docs.wandb.com/app/features/alerts)"
      ]
    },
    {
      "cell_type": "markdown",
      "metadata": {
        "id": "v-WGh_7IFgVS"
      },
      "source": [
        "## 1. Install the W&B Library"
      ]
    },
    {
      "cell_type": "code",
      "metadata": {
        "id": "EHJldCsBBMn0"
      },
      "source": [
        "!pip install wandb -qqq"
      ],
      "execution_count": null,
      "outputs": []
    },
    {
      "cell_type": "markdown",
      "metadata": {
        "id": "4-feBMfuFnd9"
      },
      "source": [
        "## 2. Launch a script that triggers alerts"
      ]
    },
    {
      "cell_type": "code",
      "metadata": {
        "id": "787ggZ8-BPKf"
      },
      "source": [
        "from datetime import timedelta\n",
        "import random\n",
        "import wandb\n",
        "from wandb import AlertLevel\n",
        "\n",
        "# Initialize a new run in Weights & Biases\n",
        "run = wandb.init(project=\"test_alerts\",\n",
        "                 # Config lets you track run settings in a central place\n",
        "                 config={\n",
        "                     \"threshold\": 0.3, # The minimum acceptable accuracy\n",
        "                     \"max_steps\": 1000, # The max number of steps for this run\n",
        "                 })\n",
        "config = wandb.config\n",
        "\n",
        "# Simulating a model training loop\n",
        "for training_step in range(config.max_steps):\n",
        "\n",
        "  # Generate a random number for accuracy\n",
        "  accuracy = round(random.random() + random.random(), 3)\n",
        "  print(accuracy)\n",
        "  wandb.log({\"Accuracy\": accuracy})\n",
        "\n",
        "  # If the accuracy is below the threshold, fire an alert and stop the run\n",
        "  if accuracy <= config.threshold:\n",
        "    wandb.alert(\n",
        "      title='Low Accuracy',\n",
        "      text=f'Accuracy {accuracy} at step {training_step} is below the acceptable theshold',\n",
        "      level=AlertLevel.WARN,\n",
        "      wait_duration=timedelta(minutes=0)\n",
        "    )\n",
        "    break\n",
        "\n",
        "# Mark the run as finished (useful in Jupyter notebooks)\n",
        "run.finish()"
      ],
      "execution_count": null,
      "outputs": []
    },
    {
      "cell_type": "markdown",
      "metadata": {
        "id": "q71TTXIXFtwV"
      },
      "source": [
        "## 3. Check your alerts\n",
        "\n",
        "Check your [Settings](https://wandb.ai/settings) to make sure you've got emails or Slack turned on for **Scriptable Alerts**. More details in the \n",
        "[Alerts docs](https://docs.wandb.com/app/features/alerts). "
      ]
    }
  ]
}