{
  "nbformat": 4,
  "nbformat_minor": 5,
  "metadata": {
    "colab": {
      "name": "DataRow Metadata Beta Guide.ipynb",
      "provenance": [],
      "collapsed_sections": [],
      "include_colab_link": true
    },
    "kernelspec": {
      "display_name": "Python 3",
      "language": "python",
      "name": "python3"
    },
    "language_info": {
      "codemirror_mode": {
        "name": "ipython",
        "version": 3
      },
      "file_extension": ".py",
      "mimetype": "text/x-python",
      "name": "python",
      "nbconvert_exporter": "python",
      "pygments_lexer": "ipython3",
      "version": "3.8.7"
    }
  },
  "cells": [
    {
      "cell_type": "markdown",
      "metadata": {
        "id": "view-in-github",
        "colab_type": "text"
      },
      "source": [
        "<a href=\"https://colab.research.google.com/github/sadjadasghari/Colab/blob/main/DataRow_Metadata_Beta_Guide.ipynb\" target=\"_parent\"><img src=\"https://colab.research.google.com/assets/colab-badge.svg\" alt=\"Open In Colab\"/></a>"
      ]
    },
    {
      "cell_type": "markdown",
      "metadata": {
        "id": "7bf8d719"
      },
      "source": [
        "  <td>\n",
        "    <a target=\"_blank\" href=\"https://labelbox.com\" ><img src=\"https://labelbox.com/blog/content/images/2021/02/logo-v4.svg\" width=256/>\n",
        "  </td>\n",
        "\n",
        "\n",
        "# DataRow Metadata Closed Beta Guide"
      ],
      "id": "7bf8d719"
    },
    {
      "cell_type": "markdown",
      "metadata": {
        "id": "8465cef2"
      },
      "source": [
        "## Overview\n",
        "\n",
        "We are launching a new feature called DataRow Metadata. Metadata is being developed to help users better understand their data to help with labeling, model diagnostics, and data selection. This **should not be confused with attachements** formerly called metadata. Attachments provides additional context for labelers but is not searchable within Catalog.\n",
        "\n",
        "The metadata feature is in beta and aspect are subject change. During the Beta data must metadata must be uploaded to ***reserved fields*** defined by Labelbox. In the near future we will support user defined ***custom fields***. THe current available fields are:\n",
        "\n",
        "* **tag**: a free text field\n",
        "* **split**: enum of train-valid-test\n",
        "* **captureDateTime**: ISO 8601 datetime field. All times must be in UTC\n",
        "* **embedding**: A 128 length list 32 bit floats used for similarity search. All datarows share the same similarity index."
      ],
      "id": "8465cef2"
    },
    {
      "cell_type": "markdown",
      "metadata": {
        "id": "f61dSEA0o4zY"
      },
      "source": [
        "### Installation\n",
        "\n",
        "Metadata is only available in beta from the `datarow-metadata-beta` branch on the `labelbox-python` repo. See [here](https://github.com/Labelbox/labelbox-python.git@datarow-metadata-beta)"
      ],
      "id": "f61dSEA0o4zY"
    },
    {
      "cell_type": "code",
      "metadata": {
        "id": "OL0N3xLRNKK7",
        "colab": {
          "base_uri": "https://localhost:8080/"
        },
        "outputId": "a5ab261f-2a31-443e-f8f7-7c4dcedc6595"
      },
      "source": [
        "%%capture\n",
        "!pip install --upgrade tensorflow-hub scikit-learn\n",
        "!pip install --upgrade --pre labelbox[data]"
      ],
      "id": "OL0N3xLRNKK7",
      "execution_count": null,
      "outputs": [
        {
          "output_type": "stream",
          "text": [
            "Requirement already satisfied: tensorflow-hub in /usr/local/lib/python3.7/dist-packages (0.12.0)\n",
            "Requirement already satisfied: scikit-learn in /usr/local/lib/python3.7/dist-packages (0.22.2.post1)\n",
            "Collecting scikit-learn\n",
            "  Downloading scikit_learn-0.24.2-cp37-cp37m-manylinux2010_x86_64.whl (22.3 MB)\n",
            "\u001b[K     |████████████████████████████████| 22.3 MB 54.0 MB/s \n",
            "\u001b[?25hRequirement already satisfied: protobuf>=3.8.0 in /usr/local/lib/python3.7/dist-packages (from tensorflow-hub) (3.17.3)\n",
            "Requirement already satisfied: numpy>=1.12.0 in /usr/local/lib/python3.7/dist-packages (from tensorflow-hub) (1.19.5)\n",
            "Requirement already satisfied: six>=1.9 in /usr/local/lib/python3.7/dist-packages (from protobuf>=3.8.0->tensorflow-hub) (1.15.0)\n",
            "Collecting threadpoolctl>=2.0.0\n",
            "  Downloading threadpoolctl-2.2.0-py3-none-any.whl (12 kB)\n",
            "Requirement already satisfied: joblib>=0.11 in /usr/local/lib/python3.7/dist-packages (from scikit-learn) (1.0.1)\n",
            "Requirement already satisfied: scipy>=0.19.1 in /usr/local/lib/python3.7/dist-packages (from scikit-learn) (1.4.1)\n",
            "Installing collected packages: threadpoolctl, scikit-learn\n",
            "  Attempting uninstall: scikit-learn\n",
            "    Found existing installation: scikit-learn 0.22.2.post1\n",
            "    Uninstalling scikit-learn-0.22.2.post1:\n",
            "      Successfully uninstalled scikit-learn-0.22.2.post1\n",
            "Successfully installed scikit-learn-0.24.2 threadpoolctl-2.2.0\n",
            "Collecting labelbox[data]\n",
            "  Downloading labelbox-3.0.0rc2-py3-none-any.whl (117 kB)\n",
            "\u001b[K     |████████████████████████████████| 117 kB 4.9 MB/s \n",
            "\u001b[?25hRequirement already satisfied: google-api-core>=1.22.1 in /usr/local/lib/python3.7/dist-packages (from labelbox[data]) (1.26.3)\n",
            "Collecting backoff==1.10.0\n",
            "  Downloading backoff-1.10.0-py2.py3-none-any.whl (31 kB)\n",
            "Requirement already satisfied: requests>=2.22.0 in /usr/local/lib/python3.7/dist-packages (from labelbox[data]) (2.23.0)\n",
            "Collecting pydantic<2.0,>=1.8\n",
            "  Downloading pydantic-1.8.2-cp37-cp37m-manylinux2014_x86_64.whl (10.1 MB)\n",
            "\u001b[K     |████████████████████████████████| 10.1 MB 19.2 MB/s \n",
            "\u001b[?25hCollecting ndjson==0.3.1\n",
            "  Downloading ndjson-0.3.1-py2.py3-none-any.whl (5.3 kB)\n",
            "Requirement already satisfied: numpy in /usr/local/lib/python3.7/dist-packages (from labelbox[data]) (1.19.5)\n",
            "Collecting geojson\n",
            "  Downloading geojson-2.5.0-py2.py3-none-any.whl (14 kB)\n",
            "Requirement already satisfied: PILLOW in /usr/local/lib/python3.7/dist-packages (from labelbox[data]) (7.1.2)\n",
            "Requirement already satisfied: shapely in /usr/local/lib/python3.7/dist-packages (from labelbox[data]) (1.7.1)\n",
            "Requirement already satisfied: opencv-python in /usr/local/lib/python3.7/dist-packages (from labelbox[data]) (4.1.2.30)\n",
            "Collecting rasterio\n",
            "  Downloading rasterio-1.2.6-cp37-cp37m-manylinux1_x86_64.whl (19.3 MB)\n",
            "\u001b[K     |████████████████████████████████| 19.3 MB 165 kB/s \n",
            "\u001b[?25hRequirement already satisfied: typeguard in /usr/local/lib/python3.7/dist-packages (from labelbox[data]) (2.7.1)\n",
            "Requirement already satisfied: tqdm in /usr/local/lib/python3.7/dist-packages (from labelbox[data]) (4.41.1)\n",
            "Requirement already satisfied: setuptools>=40.3.0 in /usr/local/lib/python3.7/dist-packages (from google-api-core>=1.22.1->labelbox[data]) (57.2.0)\n",
            "Requirement already satisfied: six>=1.13.0 in /usr/local/lib/python3.7/dist-packages (from google-api-core>=1.22.1->labelbox[data]) (1.15.0)\n",
            "Requirement already satisfied: google-auth<2.0dev,>=1.21.1 in /usr/local/lib/python3.7/dist-packages (from google-api-core>=1.22.1->labelbox[data]) (1.32.1)\n",
            "Requirement already satisfied: pytz in /usr/local/lib/python3.7/dist-packages (from google-api-core>=1.22.1->labelbox[data]) (2018.9)\n",
            "Requirement already satisfied: protobuf>=3.12.0 in /usr/local/lib/python3.7/dist-packages (from google-api-core>=1.22.1->labelbox[data]) (3.17.3)\n",
            "Requirement already satisfied: packaging>=14.3 in /usr/local/lib/python3.7/dist-packages (from google-api-core>=1.22.1->labelbox[data]) (21.0)\n",
            "Requirement already satisfied: googleapis-common-protos<2.0dev,>=1.6.0 in /usr/local/lib/python3.7/dist-packages (from google-api-core>=1.22.1->labelbox[data]) (1.53.0)\n",
            "Requirement already satisfied: pyasn1-modules>=0.2.1 in /usr/local/lib/python3.7/dist-packages (from google-auth<2.0dev,>=1.21.1->google-api-core>=1.22.1->labelbox[data]) (0.2.8)\n",
            "Requirement already satisfied: cachetools<5.0,>=2.0.0 in /usr/local/lib/python3.7/dist-packages (from google-auth<2.0dev,>=1.21.1->google-api-core>=1.22.1->labelbox[data]) (4.2.2)\n",
            "Requirement already satisfied: rsa<5,>=3.1.4 in /usr/local/lib/python3.7/dist-packages (from google-auth<2.0dev,>=1.21.1->google-api-core>=1.22.1->labelbox[data]) (4.7.2)\n",
            "Requirement already satisfied: pyparsing>=2.0.2 in /usr/local/lib/python3.7/dist-packages (from packaging>=14.3->google-api-core>=1.22.1->labelbox[data]) (2.4.7)\n",
            "Requirement already satisfied: pyasn1<0.5.0,>=0.4.6 in /usr/local/lib/python3.7/dist-packages (from pyasn1-modules>=0.2.1->google-auth<2.0dev,>=1.21.1->google-api-core>=1.22.1->labelbox[data]) (0.4.8)\n",
            "Requirement already satisfied: typing-extensions>=3.7.4.3 in /usr/local/lib/python3.7/dist-packages (from pydantic<2.0,>=1.8->labelbox[data]) (3.7.4.3)\n",
            "Requirement already satisfied: urllib3!=1.25.0,!=1.25.1,<1.26,>=1.21.1 in /usr/local/lib/python3.7/dist-packages (from requests>=2.22.0->labelbox[data]) (1.24.3)\n",
            "Requirement already satisfied: chardet<4,>=3.0.2 in /usr/local/lib/python3.7/dist-packages (from requests>=2.22.0->labelbox[data]) (3.0.4)\n",
            "Requirement already satisfied: certifi>=2017.4.17 in /usr/local/lib/python3.7/dist-packages (from requests>=2.22.0->labelbox[data]) (2021.5.30)\n",
            "Requirement already satisfied: idna<3,>=2.5 in /usr/local/lib/python3.7/dist-packages (from requests>=2.22.0->labelbox[data]) (2.10)\n",
            "Requirement already satisfied: attrs in /usr/local/lib/python3.7/dist-packages (from rasterio->labelbox[data]) (21.2.0)\n",
            "Collecting snuggs>=1.4.1\n",
            "  Downloading snuggs-1.4.7-py3-none-any.whl (5.4 kB)\n",
            "Requirement already satisfied: click>=4.0 in /usr/local/lib/python3.7/dist-packages (from rasterio->labelbox[data]) (7.1.2)\n",
            "Collecting cligj>=0.5\n",
            "  Downloading cligj-0.7.2-py3-none-any.whl (7.1 kB)\n",
            "Collecting affine\n",
            "  Downloading affine-2.3.0-py2.py3-none-any.whl (15 kB)\n",
            "Collecting click-plugins\n",
            "  Downloading click_plugins-1.1.1-py2.py3-none-any.whl (7.5 kB)\n",
            "Installing collected packages: snuggs, pydantic, ndjson, cligj, click-plugins, backoff, affine, rasterio, labelbox, geojson\n",
            "Successfully installed affine-2.3.0 backoff-1.10.0 click-plugins-1.1.1 cligj-0.7.2 geojson-2.5.0 labelbox-3.0.0rc2 ndjson-0.3.1 pydantic-1.8.2 rasterio-1.2.6 snuggs-1.4.7\n"
          ],
          "name": "stdout"
        }
      ]
    },
    {
      "cell_type": "markdown",
      "metadata": {
        "id": "SF251uzCGyMx"
      },
      "source": [
        "## Setup"
      ],
      "id": "SF251uzCGyMx"
    },
    {
      "cell_type": "code",
      "metadata": {
        "id": "e3472f7c"
      },
      "source": [
        "import labelbox\n",
        "import random\n",
        "import numpy as np\n",
        "from labelbox.schema.data_row_metadata import DataRowMetadata, DataRowMetadataField, DeleteDataRowMetadata, DataRowMetadataKind\n",
        "from sklearn.random_projection import GaussianRandomProjection\n",
        "import seaborn as sns\n",
        "\n",
        "import datetime\n",
        "from pprint import pprint\n",
        "from pydantic import BaseModel\n",
        "from typing import List, Optional\n",
        "from itertools import chain\n",
        "import datetime\n",
        "\n",
        "import tensorflow_hub as hub\n",
        "import requests\n",
        "import tensorflow as tf"
      ],
      "id": "e3472f7c",
      "execution_count": null,
      "outputs": []
    },
    {
      "cell_type": "code",
      "metadata": {
        "id": "ogVqVzGlNXBY"
      },
      "source": [
        "API_KEY = None\n",
        "client = labelbox.Client(api_key=API_KEY)"
      ],
      "id": "ogVqVzGlNXBY",
      "execution_count": null,
      "outputs": []
    },
    {
      "cell_type": "markdown",
      "metadata": {
        "id": "c5ca6b13"
      },
      "source": [
        "## Metadata ontology\n",
        "\n",
        "We use a similar system for managing metadata as we do feature schemas. Metadata scheams are strongly typed to ensure we can provide the best experience in the App. Each metadata field can be uniquely accessed by id. Names are unique within the kind of metadata, reserved or custom.\n",
        "\n",
        "Metadata fields support a couple of core kinds:\n",
        "\n",
        "* **Enum**: A classification with options, only one option can be selected at a time\n",
        "* **DateTime**: A utc ISO datetime \n",
        "* **Embedding**: 128 float 32 vector used for similarity\n",
        "* **String**: A string of less than 500 characters"
      ],
      "id": "c5ca6b13"
    },
    {
      "cell_type": "code",
      "metadata": {
        "id": "6b611f62"
      },
      "source": [
        "mdo = client.get_data_row_metadata_ontology()"
      ],
      "id": "6b611f62",
      "execution_count": null,
      "outputs": []
    },
    {
      "cell_type": "code",
      "metadata": {
        "id": "7dbbb519"
      },
      "source": [
        "# dictionary access with id\n",
        "pprint(mdo.all_fields_id_index, indent=2)"
      ],
      "id": "7dbbb519",
      "execution_count": null,
      "outputs": []
    },
    {
      "cell_type": "code",
      "metadata": {
        "id": "sHsS5Q1XpuUp"
      },
      "source": [
        "# access by name\n",
        "split_field = mdo.reserved_name_index[\"split\"]"
      ],
      "id": "sHsS5Q1XpuUp",
      "execution_count": null,
      "outputs": []
    },
    {
      "cell_type": "code",
      "metadata": {
        "id": "uOS2QlHmqAIs"
      },
      "source": [
        "split_field.options"
      ],
      "id": "uOS2QlHmqAIs",
      "execution_count": null,
      "outputs": []
    },
    {
      "cell_type": "code",
      "metadata": {
        "id": "tGOtekYIq4xt"
      },
      "source": [
        "tag_field = mdo.reserved_name_index[\"tag\"]"
      ],
      "id": "tGOtekYIq4xt",
      "execution_count": null,
      "outputs": []
    },
    {
      "cell_type": "code",
      "metadata": {
        "id": "6oZD8PMzq8yg"
      },
      "source": [
        "tag_field"
      ],
      "id": "6oZD8PMzq8yg",
      "execution_count": null,
      "outputs": []
    },
    {
      "cell_type": "markdown",
      "metadata": {
        "id": "D0sTgB5QrKET"
      },
      "source": [
        "## Setup embeddings/similarity\n",
        "\n",
        "The quality of embeddings is based on how well a machine learning model overlaps with your task. An off the shelf model will perform much worse then a model you have trained yourself.\n",
        "\n",
        "Here we use a [TensorfFlow Hub](https://tfhub.dev) model trained on Imagenet to create embeddings and then run a dimensionality reduction step to match the Labelbox requirements"
      ],
      "id": "D0sTgB5QrKET"
    },
    {
      "cell_type": "code",
      "metadata": {
        "id": "uRWOGD9T5m1a"
      },
      "source": [
        "TFHUB_MODEL = \"https://tfhub.dev/google/efficientnet/b0/feature-vector/1\" #@param {type:\"string\"}"
      ],
      "id": "uRWOGD9T5m1a",
      "execution_count": null,
      "outputs": []
    },
    {
      "cell_type": "code",
      "metadata": {
        "id": "aRLXG52U7VEe"
      },
      "source": [
        "def make_file_processor(height, width):\n",
        "    \n",
        "  def decode_image(img):\n",
        "    # convert the compressed string to a 3D uint8 tensor\n",
        "    img = tf.image.decode_jpeg(img, channels=3)\n",
        "    img = tf.image.convert_image_dtype(img, dtype=tf.float32)\n",
        "    return img\n",
        "\n",
        "  def process_file(bytez):\n",
        "    img = decode_image(bytez)\n",
        "    img = tf.image.resize(img, [height, width])\n",
        "    return img[tf.newaxis, ...]\n",
        "\n",
        "  return process_file\n",
        "\n",
        "INPUT_HEIGHT, INPUT_WIDTH = 224, 224\n",
        "SIMILARITY_DIMENSION = 128\n",
        "model = hub.KerasLayer(TFHUB_MODEL)\n",
        "processor = make_file_processor(INPUT_HEIGHT, INPUT_WIDTH)"
      ],
      "id": "aRLXG52U7VEe",
      "execution_count": null,
      "outputs": []
    },
    {
      "cell_type": "markdown",
      "metadata": {
        "id": "sw90ea9PyBkC"
      },
      "source": [
        "## Uploading metadata\n",
        "\n",
        "As mentioned previously metadata is strongly typed. To upload metadata for a datarow you construct a `DataRowMetadata` object which contains the fields `DataRowMetadataField` to put on the datarow. To construct a metadata field you must provide the schema id for the field and value that will be uploaded. Metadata will overwrite on a per field basis. \n",
        "\n",
        "\n",
        "```python\n",
        "\n",
        "# Existing metadata\n",
        "\n",
        "{\n",
        "    \"datetime\": now,\n",
        "    \"tag\": \"old-message\"\n",
        "}\n",
        "\n",
        "# Upload payload\n",
        "\n",
        "{\n",
        "    \"tag\": \"new-message\",\n",
        "    \"embedding\": [0.25, ...]\n",
        "}\n",
        "\n",
        "# New Result\n",
        "\n",
        "{\n",
        "    \"datetime\": now,\n",
        "    \"tag\": \"new-message\",\n",
        "    \"embedding\": [0.25, ...]\n",
        "}\n",
        "```\n",
        "\n",
        "\n"
      ],
      "id": "sw90ea9PyBkC"
    },
    {
      "cell_type": "markdown",
      "metadata": {
        "id": "p-s_PFHfNNZB"
      },
      "source": [
        "### Building up uploads"
      ],
      "id": "p-s_PFHfNNZB"
    },
    {
      "cell_type": "code",
      "metadata": {
        "id": "XVfT1vzMrv71"
      },
      "source": [
        "# Select a dataset to use\n",
        "dataset_id = None\n",
        "dataset = client.get_dataset(dataset_id)"
      ],
      "id": "XVfT1vzMrv71",
      "execution_count": null,
      "outputs": []
    },
    {
      "cell_type": "code",
      "metadata": {
        "id": "f115e96a"
      },
      "source": [
        "test = 0.05\n",
        "valid = 0.05 + test\n",
        "train = 1 - valid\n",
        "\n",
        "embedding_schema_id = \"ckpyije740000yxdk81pbgjdc\"\n",
        "capture_dt_schema_id = \"cko8sdzv70006h2dk8jg64zvb\"\n",
        "text_schema_id = \"cko8s9r5v0001h2dk9elqdidh\"\n",
        "split_schema_id = \"cko8sbczn0002h2dkdaxb5kal\""
      ],
      "id": "f115e96a",
      "execution_count": null,
      "outputs": []
    },
    {
      "cell_type": "code",
      "metadata": {
        "id": "a06b5592"
      },
      "source": [
        "uploads = []\n",
        "embeddings = []\n",
        "for datarow in dataset.data_rows():\n",
        "    \n",
        "    response = requests.get(datarow.row_data, stream=True)\n",
        "\n",
        "    # assign datarows a split\n",
        "    rnd = random.random()\n",
        "    if rnd < test:\n",
        "        split = \"cko8scbz70005h2dkastwhgqt\"\n",
        "    elif rnd < valid:\n",
        "        split = \"cko8sc2yr0004h2dk69aj5x63\"\n",
        "    else: # train\n",
        "        split = \"cko8sbscr0003h2dk04w86hof\"\n",
        "    \n",
        "    embeddings.append(list(model(processor(response.content), training=False)[0].numpy()))\n",
        "\n",
        "    uploads.append(\n",
        "        DataRowMetadata(\n",
        "            data_row_id=datarow.uid,\n",
        "            fields=[\n",
        "                DataRowMetadataField(\n",
        "                    schema_id=mdo.reserved_name_index[\"captureDateTime\"].id,\n",
        "                    value=datetime.datetime.utcnow(),\n",
        "                ),\n",
        "                DataRowMetadataField(\n",
        "                    schema_id=split_schema_id,\n",
        "                    value=split\n",
        "                ),\n",
        "                DataRowMetadataField(\n",
        "                    schema_id=mdo.reserved_name_index[\"tag\"].id,\n",
        "                        value=\"my-new-message\"\n",
        "                ),\n",
        "                ]\n",
        "\n",
        "            )\n",
        "    )"
      ],
      "id": "a06b5592",
      "execution_count": null,
      "outputs": []
    },
    {
      "cell_type": "markdown",
      "metadata": {
        "id": "9bWUGSqL4Mlc"
      },
      "source": [
        "### Reduce dimensionality\n",
        "\n",
        "Labelbox supports dimensions of length 128 so we use a [Gaussian Random Projection](https://scikit-learn.org/stable/modules/random_projection.html#gaussian-random-projection) to project the data from 1024 into a compatible size"
      ],
      "id": "9bWUGSqL4Mlc"
    },
    {
      "cell_type": "code",
      "metadata": {
        "id": "83LsKyeX0Q8H"
      },
      "source": [
        "gaussian_projected = GaussianRandomProjection(n_components=2).fit_transform(np.vstack(embeddings))"
      ],
      "id": "83LsKyeX0Q8H",
      "execution_count": null,
      "outputs": []
    },
    {
      "cell_type": "code",
      "metadata": {
        "id": "Pr2Vo7l90pz8"
      },
      "source": [
        "sns.scatterplot(x=gaussian_projected[:, 0], y=gaussian_projected[:, 1])\n",
        "sns.despine()"
      ],
      "id": "Pr2Vo7l90pz8",
      "execution_count": null,
      "outputs": []
    },
    {
      "cell_type": "code",
      "metadata": {
        "id": "eOuJe1RMy-Dx"
      },
      "source": [
        "# project to 128 and add to upload\n",
        "projected = GaussianRandomProjection(n_components=SIMILARITY_DIMENSION).fit_transform(np.vstack(embeddings))\n",
        "for md, embd in zip(uploads, projected):\n",
        "    md.fields.append(\n",
        "        DataRowMetadataField(\n",
        "            schema_id=mdo.reserved_name_index[\"embedding\"].id,\n",
        "            value=embd.tolist(), # convert from numpy to list\n",
        "        ),\n",
        "    )"
      ],
      "id": "eOuJe1RMy-Dx",
      "execution_count": null,
      "outputs": []
    },
    {
      "cell_type": "markdown",
      "metadata": {
        "id": "1x-5KSChNSpK"
      },
      "source": [
        "### Upload"
      ],
      "id": "1x-5KSChNSpK"
    },
    {
      "cell_type": "code",
      "metadata": {
        "id": "-FUkp4CEPuzx"
      },
      "source": [
        "mdo.bulk_upsert(uploads)"
      ],
      "id": "-FUkp4CEPuzx",
      "execution_count": null,
      "outputs": []
    },
    {
      "cell_type": "markdown",
      "metadata": {
        "id": "xxq3lopcpZp8"
      },
      "source": [
        "## Accessing Metadata\n",
        "\n",
        "Currently there is no option for exporting metadata in bulk. We will be working to support that functionality in the near future."
      ],
      "id": "xxq3lopcpZp8"
    },
    {
      "cell_type": "code",
      "metadata": {
        "id": "F5F18Xdz5P5Y"
      },
      "source": [
        "datarow = next(dataset.data_rows())"
      ],
      "id": "F5F18Xdz5P5Y",
      "execution_count": null,
      "outputs": []
    },
    {
      "cell_type": "markdown",
      "metadata": {
        "id": "lF1jMUoq4txW"
      },
      "source": [
        "### Similarity\n",
        "\n",
        "To access similarity navigate to the datarow page using a link or clicking open in new tab for a datarow"
      ],
      "id": "lF1jMUoq4txW"
    },
    {
      "cell_type": "markdown",
      "metadata": {
        "id": "hOhpxtvA6KCf"
      },
      "source": [
        "![image.png](data:image/png;base64,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)"
      ],
      "id": "hOhpxtvA6KCf"
    },
    {
      "cell_type": "code",
      "metadata": {
        "id": "CWoDE-1w4_mJ"
      },
      "source": [
        "# datarow page\n",
        "print(f'https://app.labelbox.com/datarows/{datarow.uid}')"
      ],
      "id": "CWoDE-1w4_mJ",
      "execution_count": null,
      "outputs": []
    },
    {
      "cell_type": "code",
      "metadata": {
        "id": "Pttg3qwq0z8R"
      },
      "source": [
        "metadata = mdo.parse_metadata([datarow.metadata])"
      ],
      "id": "Pttg3qwq0z8R",
      "execution_count": null,
      "outputs": []
    },
    {
      "cell_type": "markdown",
      "metadata": {
        "id": "h3awG-OEGP86"
      },
      "source": [
        "## Delete Metadata\n",
        "\n",
        "To delete fields from a datarow you provide the schema ids you want removed \n",
        "\n",
        "**Note** for enums you must currently pass the Enum and Option schema ids"
      ],
      "id": "h3awG-OEGP86"
    },
    {
      "cell_type": "code",
      "metadata": {
        "id": "mATsdVyaGRXB"
      },
      "source": [
        "md = uploads[0]"
      ],
      "id": "mATsdVyaGRXB",
      "execution_count": null,
      "outputs": []
    },
    {
      "cell_type": "code",
      "metadata": {
        "id": "_6B2sJa_GiZe"
      },
      "source": [
        "fields = []\n",
        "# iterate through the fields you want to delete\n",
        "for field in md.fields:\n",
        "    schema = mdo.all_fields_id_index[field.schema_id]\n",
        "    fields.append(field.schema_id)\n",
        "\n",
        "deletes = DeleteDataRowMetadata(\n",
        "    data_row_id=md.data_row_id,\n",
        "    fields=fields\n",
        ")"
      ],
      "id": "_6B2sJa_GiZe",
      "execution_count": null,
      "outputs": []
    },
    {
      "cell_type": "code",
      "metadata": {
        "id": "4zKFfgXaNz7c"
      },
      "source": [
        "len(client.get_data_row(deletes.data_row_id).metadata[\"fields\"])"
      ],
      "id": "4zKFfgXaNz7c",
      "execution_count": null,
      "outputs": []
    },
    {
      "cell_type": "code",
      "metadata": {
        "id": "8ePkScszH7_h"
      },
      "source": [
        "mdo.bulk_delete([deletes])"
      ],
      "id": "8ePkScszH7_h",
      "execution_count": null,
      "outputs": []
    },
    {
      "cell_type": "code",
      "metadata": {
        "id": "rKdJhVcEIDku"
      },
      "source": [
        "len(client.get_data_row(deletes.data_row_id).metadata[\"fields\"])"
      ],
      "id": "rKdJhVcEIDku",
      "execution_count": null,
      "outputs": []
    },
    {
      "cell_type": "markdown",
      "metadata": {
        "id": "Y27__uc10GwA"
      },
      "source": [
        "### Tell us more about the features you want [here](https://portal.productboard.com/t8t5vu6cutoerk4wsskkpyzr)"
      ],
      "id": "Y27__uc10GwA"
    }
  ]
}